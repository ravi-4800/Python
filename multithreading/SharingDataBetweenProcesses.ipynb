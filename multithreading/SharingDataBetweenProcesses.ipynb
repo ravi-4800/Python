{
 "cells": [
  {
   "cell_type": "code",
   "execution_count": 2,
   "metadata": {},
   "outputs": [],
   "source": [
    "import multiprocessing"
   ]
  },
  {
   "cell_type": "code",
   "execution_count": 3,
   "metadata": {},
   "outputs": [],
   "source": [
    "res = []\n",
    "\n",
    "def square(nums):\n",
    "    \n",
    "    for n in nums:\n",
    "        print(f\"square of {n} is {n*n}\")\n",
    "        res.append(n*n)\n",
    "    print(f\"Within child process: {res}\")"
   ]
  },
  {
   "cell_type": "code",
   "execution_count": 4,
   "metadata": {},
   "outputs": [
    {
     "name": "stdout",
     "output_type": "stream",
     "text": [
      "square of 1 is 1\n",
      "square of 2 is 4\n",
      "square of 3 is 9\n",
      "square of 4 is 16\n",
      "Within child process: [1, 4, 9, 16]\n",
      "Main Process: []\n"
     ]
    }
   ],
   "source": [
    "nums = [1, 2, 3, 4]\n",
    "\n",
    "p = multiprocessing.Process(target=square, args=(nums,))\n",
    "\n",
    "p.start()\n",
    "p.join()\n",
    "\n",
    "print(f\"Main Process: {res}\")"
   ]
  },
  {
   "cell_type": "code",
   "execution_count": 8,
   "metadata": {},
   "outputs": [],
   "source": [
    "def square(nums, result, square_sum):\n",
    "    \n",
    "    for i,n in enumerate(nums):\n",
    "        print(f\"square of {n} is {n*n}\")\n",
    "        result[i] = n * n\n",
    "    square_sum.value = sum(result)\n",
    "    print(f\"Within child process: {result}\")\n",
    "    print(f\"Within child process: {square_sum}\")"
   ]
  },
  {
   "cell_type": "code",
   "execution_count": 9,
   "metadata": {},
   "outputs": [],
   "source": [
    "result = multiprocessing.Array('i', 4)\n",
    "square_sum = multiprocessing.Value('i')"
   ]
  },
  {
   "cell_type": "code",
   "execution_count": 10,
   "metadata": {},
   "outputs": [
    {
     "name": "stdout",
     "output_type": "stream",
     "text": [
      "square of 1 is 1\n",
      "square of 2 is 4\n",
      "square of 3 is 9\n",
      "square of 4 is 16\n",
      "Within child process: <SynchronizedArray wrapper for <multiprocessing.sharedctypes.c_int_Array_4 object at 0x7f09b044fcb0>>\n",
      "Within child process: <Synchronized wrapper for c_int(30)>\n",
      "Main Process: <SynchronizedArray wrapper for <multiprocessing.sharedctypes.c_int_Array_4 object at 0x7f09b044fcb0>>\n",
      "Main Process: [1, 4, 9, 16]\n",
      "Main Process: <Synchronized wrapper for c_int(30)>\n",
      "Main Process: 30\n"
     ]
    }
   ],
   "source": [
    "nums = [1, 2, 3, 4]\n",
    "\n",
    "p = multiprocessing.Process(target=square, args=(nums, result, square_sum))\n",
    "\n",
    "p.start()\n",
    "p.join()\n",
    "\n",
    "print(f\"Main Process: {result}\")\n",
    "print(f\"Main Process: {list(result)}\")\n",
    "\n",
    "print(f\"Main Process: {square_sum}\")\n",
    "print(f\"Main Process: {square_sum.value}\")"
   ]
  },
  {
   "cell_type": "code",
   "execution_count": 11,
   "metadata": {},
   "outputs": [],
   "source": [
    "def get_data(data_list):\n",
    "    for data in data_list:\n",
    "        print(f\"Name: {data[0]} \\nScore: {data[1]}\")\n",
    "\n",
    "def append_data(new_data, data_list):\n",
    "    data_list.append(new_data)\n",
    "    print(\"new data appended!\\n\")"
   ]
  },
  {
   "cell_type": "code",
   "execution_count": 12,
   "metadata": {},
   "outputs": [],
   "source": [
    "database = [('James', 70), ('Chris', 90), ('Robert', 95)]"
   ]
  },
  {
   "cell_type": "code",
   "execution_count": 13,
   "metadata": {},
   "outputs": [],
   "source": [
    "new_data = ('Evans', 98)"
   ]
  },
  {
   "cell_type": "code",
   "execution_count": 14,
   "metadata": {},
   "outputs": [],
   "source": [
    "p1 = multiprocessing.Process(target=append_data, args=(new_data,database))\n",
    "p2 = multiprocessing.Process(target=get_data, args=(database,))"
   ]
  },
  {
   "cell_type": "code",
   "execution_count": 15,
   "metadata": {},
   "outputs": [
    {
     "name": "stdout",
     "output_type": "stream",
     "text": [
      "new data appended!\n",
      "\n"
     ]
    }
   ],
   "source": [
    "p1.start()\n",
    "p1.join()"
   ]
  },
  {
   "cell_type": "code",
   "execution_count": 16,
   "metadata": {},
   "outputs": [
    {
     "name": "stdout",
     "output_type": "stream",
     "text": [
      "Name: James \n",
      "Score: 70\n",
      "Name: Chris \n",
      "Score: 90\n",
      "Name: Robert \n",
      "Score: 95\n"
     ]
    }
   ],
   "source": [
    "p2.start()\n",
    "p2.join()"
   ]
  },
  {
   "cell_type": "code",
   "execution_count": 17,
   "metadata": {},
   "outputs": [
    {
     "data": {
      "text/plain": [
       "[('James', 70), ('Chris', 90), ('Robert', 95)]"
      ]
     },
     "execution_count": 17,
     "metadata": {},
     "output_type": "execute_result"
    }
   ],
   "source": [
    "database"
   ]
  },
  {
   "cell_type": "code",
   "execution_count": 20,
   "metadata": {},
   "outputs": [
    {
     "name": "stdout",
     "output_type": "stream",
     "text": [
      "new data appended!\n",
      "Name: James \n",
      "Score: 70\n",
      "\n",
      "Name: Chris \n",
      "Score: 90\n",
      "Name: Robert \n",
      "Score: 95\n",
      "Name: Evans \n",
      "Score: 98\n",
      "Data available to the Manager:  [('James', 70), ('Chris', 90), ('Robert', 95), ('Evans', 98)]\n"
     ]
    }
   ],
   "source": [
    "with multiprocessing.Manager() as manager:\n",
    "    \n",
    "    database = manager.list([('James', 70), ('Chris', 90), ('Robert', 95)])\n",
    "    new_data = ('Evans', 98)\n",
    "    \n",
    "    p1 = multiprocessing.Process(target=append_data, args=(new_data,database))\n",
    "    p2 = multiprocessing.Process(target=get_data, args=(database,))\n",
    "    \n",
    "    p1.start()\n",
    "    p2.start()\n",
    "    \n",
    "    p1.join()\n",
    "    p2.join()\n",
    "    \n",
    "    print(\"Data available to the Manager: \", database)"
   ]
  },
  {
   "cell_type": "code",
   "execution_count": null,
   "metadata": {},
   "outputs": [],
   "source": []
  }
 ],
 "metadata": {
  "kernelspec": {
   "display_name": "Python 3",
   "language": "python",
   "name": "python3"
  },
  "language_info": {
   "codemirror_mode": {
    "name": "ipython",
    "version": 3
   },
   "file_extension": ".py",
   "mimetype": "text/x-python",
   "name": "python",
   "nbconvert_exporter": "python",
   "pygments_lexer": "ipython3",
   "version": "3.6.9"
  }
 },
 "nbformat": 4,
 "nbformat_minor": 5
}
