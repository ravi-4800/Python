{
 "cells": [
  {
   "cell_type": "code",
   "execution_count": 4,
   "id": "sealed-organizer",
   "metadata": {},
   "outputs": [],
   "source": [
    "def cal_square(n):\n",
    "    return n*n"
   ]
  },
  {
   "cell_type": "code",
   "execution_count": 5,
   "id": "joined-priority",
   "metadata": {},
   "outputs": [],
   "source": [
    "num_list = [1, 2, 3, 4, 5]\n",
    "result = []\n",
    "\n",
    "for num in num_list:\n",
    "    result.append(cal_square(num))"
   ]
  },
  {
   "cell_type": "code",
   "execution_count": 6,
   "id": "expanded-devil",
   "metadata": {},
   "outputs": [
    {
     "data": {
      "text/plain": [
       "[1, 4, 9, 16, 25]"
      ]
     },
     "execution_count": 6,
     "metadata": {},
     "output_type": "execute_result"
    }
   ],
   "source": [
    "result"
   ]
  },
  {
   "cell_type": "code",
   "execution_count": 7,
   "id": "caring-peoples",
   "metadata": {},
   "outputs": [],
   "source": [
    "import os"
   ]
  },
  {
   "cell_type": "code",
   "execution_count": 8,
   "id": "recorded-hormone",
   "metadata": {},
   "outputs": [
    {
     "data": {
      "text/plain": [
       "4"
      ]
     },
     "execution_count": 8,
     "metadata": {},
     "output_type": "execute_result"
    }
   ],
   "source": [
    "os.cpu_count()"
   ]
  },
  {
   "cell_type": "code",
   "execution_count": 9,
   "id": "rapid-wound",
   "metadata": {},
   "outputs": [],
   "source": [
    "def cal_square(n):\n",
    "    print(n, os.getpid())\n",
    "    return n * n\n",
    "\n",
    "result = []"
   ]
  },
  {
   "cell_type": "code",
   "execution_count": 10,
   "id": "expanded-brother",
   "metadata": {},
   "outputs": [
    {
     "name": "stdout",
     "output_type": "stream",
     "text": [
      "1 2237\n",
      "2 2237\n",
      "3 2237\n",
      "4 2237\n",
      "5 2237\n"
     ]
    },
    {
     "data": {
      "text/plain": [
       "[1, 4, 9, 16, 25]"
      ]
     },
     "execution_count": 10,
     "metadata": {},
     "output_type": "execute_result"
    }
   ],
   "source": [
    "for num in num_list:\n",
    "    result.append(cal_square(num))\n",
    "\n",
    "result"
   ]
  },
  {
   "cell_type": "code",
   "execution_count": 11,
   "id": "imported-country",
   "metadata": {},
   "outputs": [],
   "source": [
    "from multiprocessing import Pool"
   ]
  },
  {
   "cell_type": "code",
   "execution_count": 12,
   "id": "electrical-right",
   "metadata": {},
   "outputs": [],
   "source": [
    "result = []"
   ]
  },
  {
   "cell_type": "code",
   "execution_count": 13,
   "id": "least-swiss",
   "metadata": {},
   "outputs": [
    {
     "name": "stdout",
     "output_type": "stream",
     "text": [
      "2143    2585258425862587\n",
      "\n",
      "5\n",
      "\n",
      " 2587\n"
     ]
    }
   ],
   "source": [
    "p = Pool()\n",
    "\n",
    "result = p.map(cal_square, num_list)\n",
    "\n",
    "p.close()"
   ]
  },
  {
   "cell_type": "code",
   "execution_count": 14,
   "id": "personalized-eugene",
   "metadata": {},
   "outputs": [
    {
     "data": {
      "text/plain": [
       "[1, 4, 9, 16, 25]"
      ]
     },
     "execution_count": 14,
     "metadata": {},
     "output_type": "execute_result"
    }
   ],
   "source": [
    "result"
   ]
  },
  {
   "cell_type": "code",
   "execution_count": 15,
   "id": "auburn-prototype",
   "metadata": {},
   "outputs": [],
   "source": [
    "result = []"
   ]
  },
  {
   "cell_type": "code",
   "execution_count": 16,
   "id": "amber-scratch",
   "metadata": {},
   "outputs": [
    {
     "name": "stdout",
     "output_type": "stream",
     "text": [
      "12 2633 \n",
      "2632\n",
      "3 42633 \n",
      "26325\n",
      " 2633\n"
     ]
    },
    {
     "data": {
      "text/plain": [
       "[1, 4, 9, 16, 25]"
      ]
     },
     "execution_count": 16,
     "metadata": {},
     "output_type": "execute_result"
    }
   ],
   "source": [
    "p = Pool(processes=2)\n",
    "\n",
    "result = p.map(cal_square, num_list)\n",
    "\n",
    "p.close()\n",
    "result"
   ]
  },
  {
   "cell_type": "code",
   "execution_count": 17,
   "id": "realistic-parade",
   "metadata": {},
   "outputs": [],
   "source": [
    "import time"
   ]
  },
  {
   "cell_type": "code",
   "execution_count": 18,
   "id": "ruled-daniel",
   "metadata": {},
   "outputs": [],
   "source": [
    "def sum_square(num):\n",
    "    s = 0\n",
    "    for i in range(num):\n",
    "        s += i * i\n",
    "    return s"
   ]
  },
  {
   "cell_type": "code",
   "execution_count": 19,
   "id": "floating-nylon",
   "metadata": {},
   "outputs": [],
   "source": [
    "def sum_square_with_mp(nums):\n",
    "    \n",
    "    start_time = time.time()\n",
    "    p = Pool()\n",
    "    result = p.map(sum_square, nums)\n",
    "    \n",
    "    # IMPORTANT\n",
    "    # map method that we are using here is used if function accepts only one argument but if function accepts more \n",
    "    # than one argument we use 'p.starmap(func, [(x,y), (p,q) ... (a,b)])'\n",
    "    \n",
    "    p.close()\n",
    "    p.join()\n",
    "    \n",
    "    total_time = time.time() - start_time\n",
    "    \n",
    "    print(f\"Processing {len(nums)} numbers took {total_time} seconds using multiprocessing\")"
   ]
  },
  {
   "cell_type": "code",
   "execution_count": 20,
   "id": "employed-judgment",
   "metadata": {},
   "outputs": [],
   "source": [
    "def sum_square_without_mp(nums):\n",
    "    \n",
    "    start_time = time.time()\n",
    "    result = []\n",
    "    \n",
    "    for i in nums:\n",
    "        result.append(sum_square(i))\n",
    "    \n",
    "    total_time = time.time() - start_time\n",
    "    \n",
    "    print(f\"Processing {len(nums)} numbers took {total_time} seconds using serial processing\")"
   ]
  },
  {
   "cell_type": "code",
   "execution_count": 21,
   "id": "contrary-nirvana",
   "metadata": {},
   "outputs": [
    {
     "name": "stdout",
     "output_type": "stream",
     "text": [
      "Processing 1000 numbers took 0.15468716621398926 seconds using multiprocessing\n",
      "Processing 1000 numbers took 0.10171175003051758 seconds using serial processing\n"
     ]
    }
   ],
   "source": [
    "nums = range(1000)\n",
    "\n",
    "sum_square_with_mp(nums)\n",
    "sum_square_without_mp(nums)"
   ]
  },
  {
   "cell_type": "code",
   "execution_count": 22,
   "id": "transsexual-roots",
   "metadata": {},
   "outputs": [
    {
     "name": "stdout",
     "output_type": "stream",
     "text": [
      "Processing 10000 numbers took 4.301758050918579 seconds using multiprocessing\n",
      "Processing 10000 numbers took 12.158503770828247 seconds using serial processing\n"
     ]
    }
   ],
   "source": [
    "nums = range(10000)\n",
    "\n",
    "sum_square_with_mp(nums)\n",
    "sum_square_without_mp(nums)"
   ]
  },
  {
   "cell_type": "code",
   "execution_count": 30,
   "id": "infectious-chaos",
   "metadata": {},
   "outputs": [
    {
     "name": "stdout",
     "output_type": "stream",
     "text": [
      "Processing 100000 numbers took 412.94378209114075 seconds using multiprocessing\n",
      "Processing 100000 numbers took 1320.0229742527008 seconds using serial processing\n"
     ]
    }
   ],
   "source": [
    "nums = range(100000)\n",
    "\n",
    "sum_square_with_mp(nums)\n",
    "sum_square_without_mp(nums)"
   ]
  },
  {
   "cell_type": "code",
   "execution_count": 31,
   "id": "electoral-millennium",
   "metadata": {},
   "outputs": [],
   "source": [
    "from concurrent.futures import ProcessPoolExecutor"
   ]
  },
  {
   "cell_type": "code",
   "execution_count": 32,
   "id": "surrounded-motion",
   "metadata": {},
   "outputs": [],
   "source": [
    "from concurrent.futures import as_completed"
   ]
  },
  {
   "cell_type": "code",
   "execution_count": 34,
   "id": "flush-titanium",
   "metadata": {},
   "outputs": [],
   "source": [
    "import urllib.request"
   ]
  },
  {
   "cell_type": "code",
   "execution_count": 36,
   "id": "mexican-celebration",
   "metadata": {},
   "outputs": [],
   "source": [
    "url_list = ['http://www.loonycorn.com/',\n",
    "            'http://reuters.com/',\n",
    "            'http://wwf.panda.org',\n",
    "            'https://en.unesco.org']"
   ]
  },
  {
   "cell_type": "code",
   "execution_count": 37,
   "id": "inappropriate-proposition",
   "metadata": {},
   "outputs": [],
   "source": [
    "def url_loader(url, time):\n",
    "    with urllib.request.urlopen(url, timeout=time) as conn:\n",
    "        return conn.read()"
   ]
  },
  {
   "cell_type": "code",
   "execution_count": 42,
   "id": "sticky-visibility",
   "metadata": {},
   "outputs": [],
   "source": [
    "def main_processpool():\n",
    "    start_time = time.time()\n",
    "    \n",
    "    with ProcessPoolExecutor(max_workers=7) as executor:\n",
    "        future_to_page = {executor.submit(url_loader, url, 60): url for url in url_list}\n",
    "        \n",
    "        for future in as_completed(future_to_page):\n",
    "            url = future_to_page[future]\n",
    "            result = future.result()\n",
    "            print(f'The page {url} is {len(result)} bytes')\n",
    "            \n",
    "    print(f'Total time taken: {time.time() - start_time}')"
   ]
  },
  {
   "cell_type": "code",
   "execution_count": 43,
   "id": "completed-cemetery",
   "metadata": {},
   "outputs": [
    {
     "name": "stdout",
     "output_type": "stream",
     "text": [
      "The page http://reuters.com/ is 208708 bytes\n",
      "The page https://en.unesco.org is 82724 bytes\n",
      "The page http://wwf.panda.org is 57342 bytes\n",
      "The page http://www.loonycorn.com/ is 50678 bytes\n",
      "Total time taken: 1.4043772220611572\n"
     ]
    }
   ],
   "source": [
    "main_processpool()"
   ]
  },
  {
   "cell_type": "code",
   "execution_count": 46,
   "id": "proprietary-territory",
   "metadata": {},
   "outputs": [],
   "source": [
    "from concurrent.futures import ThreadPoolExecutor\n",
    "\n",
    "def main_threadpool():\n",
    "    start_time = time.time()\n",
    "    \n",
    "    with ThreadPoolExecutor(max_workers=7) as executor:\n",
    "        future_to_page = {executor.submit(url_loader, url, 60): url for url in url_list}\n",
    "        \n",
    "        for future in as_completed(future_to_page):\n",
    "            url = future_to_page[future]\n",
    "            result = future.result()\n",
    "            print(f'The page {url} is {len(result)} bytes')\n",
    "            \n",
    "    print(f'Total time taken: {time.time() - start_time}')"
   ]
  },
  {
   "cell_type": "code",
   "execution_count": 47,
   "id": "embedded-reasoning",
   "metadata": {},
   "outputs": [
    {
     "name": "stdout",
     "output_type": "stream",
     "text": [
      "The page https://en.unesco.org is 82724 bytes\n",
      "The page http://reuters.com/ is 208708 bytes\n",
      "The page http://www.loonycorn.com/ is 50679 bytes\n",
      "The page http://wwf.panda.org is 57342 bytes\n",
      "Total time taken: 1.3545551300048828\n"
     ]
    }
   ],
   "source": [
    "main_threadpool()"
   ]
  },
  {
   "cell_type": "code",
   "execution_count": 48,
   "id": "declared-salon",
   "metadata": {},
   "outputs": [],
   "source": [
    "num_list = [1, 2, 3, 4, 5, 6]"
   ]
  },
  {
   "cell_type": "code",
   "execution_count": 49,
   "id": "streaming-julian",
   "metadata": {},
   "outputs": [],
   "source": [
    "def count(number):\n",
    "    for i in range(10000000):\n",
    "        i=i+1\n",
    "    return i ** number"
   ]
  },
  {
   "cell_type": "code",
   "execution_count": 53,
   "id": "detailed-worst",
   "metadata": {},
   "outputs": [],
   "source": [
    "def assess_item(x):\n",
    "    result_item = count(x)\n",
    "    print(f'item {x} result {result_item}')"
   ]
  },
  {
   "cell_type": "code",
   "execution_count": 54,
   "id": "defined-campus",
   "metadata": {},
   "outputs": [
    {
     "name": "stdout",
     "output_type": "stream",
     "text": [
      "item 1 result 10000000\n",
      "item 2 result 100000000000000\n",
      "item 3 result 1000000000000000000000\n",
      "item 4 result 10000000000000000000000000000\n",
      "item 5 result 100000000000000000000000000000000000\n",
      "item 6 result 1000000000000000000000000000000000000000000\n",
      "Sequential execution in 7.317261457443237 seconds\n"
     ]
    }
   ],
   "source": [
    "start_time = time.time()\n",
    "\n",
    "for item in num_list:\n",
    "    assess_item(item)\n",
    "\n",
    "print(f'Sequential execution in {time.time() - start_time} seconds')"
   ]
  },
  {
   "cell_type": "code",
   "execution_count": 55,
   "id": "simplified-description",
   "metadata": {},
   "outputs": [
    {
     "name": "stdout",
     "output_type": "stream",
     "text": [
      "item 1 result 10000000\n",
      "item 2 result 100000000000000\n",
      "item 4 result 10000000000000000000000000000\n",
      "item 3 result 1000000000000000000000\n",
      "item 5 result 100000000000000000000000000000000000\n",
      "item 6 result 1000000000000000000000000000000000000000000\n",
      "Thread pool execution in 7.499006509780884 seconds\n"
     ]
    }
   ],
   "source": [
    "start_time = time.time()\n",
    "\n",
    "with ThreadPoolExecutor(max_workers=4) as executor:\n",
    "    for item in num_list:\n",
    "        executor.submit(assess_item, item)\n",
    "        \n",
    "print(f\"Thread pool execution in {time.time() - start_time} seconds\")"
   ]
  },
  {
   "cell_type": "code",
   "execution_count": 56,
   "id": "auburn-routine",
   "metadata": {},
   "outputs": [
    {
     "name": "stdout",
     "output_type": "stream",
     "text": [
      "item 1 result 10000000item 3 result 1000000000000000000000\n",
      "\n",
      "item 4 result 10000000000000000000000000000\n",
      "item 2 result 100000000000000\n",
      "item 6 result 1000000000000000000000000000000000000000000item 5 result 100000000000000000000000000000000000\n",
      "\n",
      "Thread pool execution in 3.580190896987915 seconds\n"
     ]
    }
   ],
   "source": [
    "start_time = time.time()\n",
    "\n",
    "with ProcessPoolExecutor(max_workers=4) as executor:\n",
    "    for item in num_list:\n",
    "        executor.submit(assess_item, item)\n",
    "        \n",
    "print(f\"Thread pool execution in {time.time() - start_time} seconds\")"
   ]
  },
  {
   "cell_type": "code",
   "execution_count": null,
   "id": "varied-wilderness",
   "metadata": {},
   "outputs": [],
   "source": []
  }
 ],
 "metadata": {
  "kernelspec": {
   "display_name": "Python 3",
   "language": "python",
   "name": "python3"
  },
  "language_info": {
   "codemirror_mode": {
    "name": "ipython",
    "version": 3
   },
   "file_extension": ".py",
   "mimetype": "text/x-python",
   "name": "python",
   "nbconvert_exporter": "python",
   "pygments_lexer": "ipython3",
   "version": "3.7.5"
  }
 },
 "nbformat": 4,
 "nbformat_minor": 5
}
