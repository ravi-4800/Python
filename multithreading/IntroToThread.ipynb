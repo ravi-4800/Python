{
 "cells": [
  {
   "cell_type": "code",
   "execution_count": 1,
   "metadata": {},
   "outputs": [],
   "source": [
    "import threading"
   ]
  },
  {
   "cell_type": "code",
   "execution_count": 2,
   "metadata": {},
   "outputs": [],
   "source": [
    "from pprint import pprint\n",
    "\n",
    "def new_func():\n",
    "    \n",
    "    pprint(threading.active_count())\n",
    "    print()\n",
    "    pprint(threading.enumerate())\n",
    "    print()\n",
    "    pprint(threading.current_thread())"
   ]
  },
  {
   "cell_type": "code",
   "execution_count": 3,
   "metadata": {},
   "outputs": [
    {
     "name": "stdout",
     "output_type": "stream",
     "text": [
      "5\n",
      "\n",
      "[<_MainThread(MainThread, started 140466820925248)>,\n",
      " <Thread(Thread-2, started daemon 140466662229760)>,\n",
      " <Heartbeat(Thread-3, started daemon 140466653837056)>,\n",
      " <HistorySavingThread(IPythonHistorySavingThread, started 140466426996480)>,\n",
      " <ParentPollerUnix(Thread-1, started daemon 140466417817344)>]\n",
      "\n",
      "<_MainThread(MainThread, started 140466820925248)>\n"
     ]
    }
   ],
   "source": [
    "new_func()"
   ]
  },
  {
   "cell_type": "code",
   "execution_count": 4,
   "metadata": {},
   "outputs": [],
   "source": [
    "def func():\n",
    "    print('hello from func! \\n')"
   ]
  },
  {
   "cell_type": "code",
   "execution_count": 5,
   "metadata": {},
   "outputs": [],
   "source": [
    "x = threading.Thread()\n",
    "\n",
    "x.start()"
   ]
  },
  {
   "cell_type": "code",
   "execution_count": 6,
   "metadata": {},
   "outputs": [
    {
     "name": "stdout",
     "output_type": "stream",
     "text": [
      "hello from func! \n",
      "\n"
     ]
    }
   ],
   "source": [
    "x = threading.Thread(target = func)\n",
    "\n",
    "x.start()"
   ]
  },
  {
   "cell_type": "code",
   "execution_count": 7,
   "metadata": {},
   "outputs": [],
   "source": [
    "import time"
   ]
  },
  {
   "cell_type": "code",
   "execution_count": 8,
   "metadata": {},
   "outputs": [],
   "source": [
    "def sleeping_func():\n",
    "    time.sleep(2)\n",
    "    print('\\nHello from sleeping_func!')"
   ]
  },
  {
   "cell_type": "code",
   "execution_count": 9,
   "metadata": {},
   "outputs": [
    {
     "name": "stdout",
     "output_type": "stream",
     "text": [
      "6\n",
      "\n",
      "[<_MainThread(MainThread, started 140466820925248)>,\n",
      " <Thread(Thread-2, started daemon 140466662229760)>,\n",
      " <Heartbeat(Thread-3, started daemon 140466653837056)>,\n",
      " <HistorySavingThread(IPythonHistorySavingThread, started 140466426996480)>,\n",
      " <ParentPollerUnix(Thread-1, started daemon 140466417817344)>,\n",
      " <Thread(brand_new_thread, started 140466409424640)>]\n",
      "\n",
      "<_MainThread(MainThread, started 140466820925248)>\n",
      "\n",
      "Hello from sleeping_func!\n"
     ]
    }
   ],
   "source": [
    "x = threading.Thread(target = sleeping_func, \n",
    "                     name = 'brand_new_thread')\n",
    "\n",
    "x.start()\n",
    "\n",
    "pprint(threading.active_count())\n",
    "print()\n",
    "pprint(threading.enumerate())\n",
    "print()\n",
    "pprint(threading.current_thread())"
   ]
  },
  {
   "cell_type": "code",
   "execution_count": 10,
   "metadata": {},
   "outputs": [
    {
     "name": "stdout",
     "output_type": "stream",
     "text": [
      "\n",
      "This is the Main thread..\n",
      "\n",
      "Hello from sleeping_func!\n"
     ]
    }
   ],
   "source": [
    "x = threading.Thread(target = sleeping_func)\n",
    "\n",
    "x.start()\n",
    "\n",
    "print('\\nThis is the Main thread..')"
   ]
  },
  {
   "cell_type": "code",
   "execution_count": 11,
   "metadata": {},
   "outputs": [
    {
     "name": "stdout",
     "output_type": "stream",
     "text": [
      "\n",
      "Hello from sleeping_func!\n",
      "\n",
      "This is the Main thread..\n"
     ]
    }
   ],
   "source": [
    "x = threading.Thread(target = sleeping_func)\n",
    "\n",
    "x.start()\n",
    "\n",
    "x.join()\n",
    "\n",
    "print('\\nThis is the Main thread..')"
   ]
  },
  {
   "cell_type": "code",
   "execution_count": 12,
   "metadata": {},
   "outputs": [
    {
     "ename": "RuntimeError",
     "evalue": "threads can only be started once",
     "output_type": "error",
     "traceback": [
      "\u001b[0;31m---------------------------------------------------------------------------\u001b[0m",
      "\u001b[0;31mRuntimeError\u001b[0m                              Traceback (most recent call last)",
      "\u001b[0;32m<ipython-input-12-8ec55ca8d1b1>\u001b[0m in \u001b[0;36m<module>\u001b[0;34m()\u001b[0m\n\u001b[1;32m      2\u001b[0m \u001b[0;34m\u001b[0m\u001b[0m\n\u001b[1;32m      3\u001b[0m \u001b[0mx\u001b[0m\u001b[0;34m.\u001b[0m\u001b[0mstart\u001b[0m\u001b[0;34m(\u001b[0m\u001b[0;34m)\u001b[0m\u001b[0;34m\u001b[0m\u001b[0;34m\u001b[0m\u001b[0m\n\u001b[0;32m----> 4\u001b[0;31m \u001b[0mx\u001b[0m\u001b[0;34m.\u001b[0m\u001b[0mstart\u001b[0m\u001b[0;34m(\u001b[0m\u001b[0;34m)\u001b[0m  \u001b[0;31m# RuntimeError: threads can only be started once\u001b[0m\u001b[0;34m\u001b[0m\u001b[0;34m\u001b[0m\u001b[0m\n\u001b[0m\u001b[1;32m      5\u001b[0m \u001b[0;34m\u001b[0m\u001b[0m\n\u001b[1;32m      6\u001b[0m \u001b[0mprint\u001b[0m\u001b[0;34m(\u001b[0m\u001b[0;34m'\\nThis is the Main thread..'\u001b[0m\u001b[0;34m)\u001b[0m\u001b[0;34m\u001b[0m\u001b[0;34m\u001b[0m\u001b[0m\n",
      "\u001b[0;32m/usr/lib/python3.6/threading.py\u001b[0m in \u001b[0;36mstart\u001b[0;34m(self)\u001b[0m\n\u001b[1;32m    840\u001b[0m \u001b[0;34m\u001b[0m\u001b[0m\n\u001b[1;32m    841\u001b[0m         \u001b[0;32mif\u001b[0m \u001b[0mself\u001b[0m\u001b[0;34m.\u001b[0m\u001b[0m_started\u001b[0m\u001b[0;34m.\u001b[0m\u001b[0mis_set\u001b[0m\u001b[0;34m(\u001b[0m\u001b[0;34m)\u001b[0m\u001b[0;34m:\u001b[0m\u001b[0;34m\u001b[0m\u001b[0;34m\u001b[0m\u001b[0m\n\u001b[0;32m--> 842\u001b[0;31m             \u001b[0;32mraise\u001b[0m \u001b[0mRuntimeError\u001b[0m\u001b[0;34m(\u001b[0m\u001b[0;34m\"threads can only be started once\"\u001b[0m\u001b[0;34m)\u001b[0m\u001b[0;34m\u001b[0m\u001b[0;34m\u001b[0m\u001b[0m\n\u001b[0m\u001b[1;32m    843\u001b[0m         \u001b[0;32mwith\u001b[0m \u001b[0m_active_limbo_lock\u001b[0m\u001b[0;34m:\u001b[0m\u001b[0;34m\u001b[0m\u001b[0;34m\u001b[0m\u001b[0m\n\u001b[1;32m    844\u001b[0m             \u001b[0m_limbo\u001b[0m\u001b[0;34m[\u001b[0m\u001b[0mself\u001b[0m\u001b[0;34m]\u001b[0m \u001b[0;34m=\u001b[0m \u001b[0mself\u001b[0m\u001b[0;34m\u001b[0m\u001b[0;34m\u001b[0m\u001b[0m\n",
      "\u001b[0;31mRuntimeError\u001b[0m: threads can only be started once"
     ]
    },
    {
     "name": "stdout",
     "output_type": "stream",
     "text": [
      "\n",
      "Hello from sleeping_func!\n"
     ]
    }
   ],
   "source": [
    "x = threading.Thread(target = sleeping_func)\n",
    "\n",
    "x.start()\n",
    "x.start()  # RuntimeError: threads can only be started once\n",
    "\n",
    "print('\\nThis is the Main thread..')"
   ]
  },
  {
   "cell_type": "code",
   "execution_count": 13,
   "metadata": {},
   "outputs": [
    {
     "name": "stdout",
     "output_type": "stream",
     "text": [
      "\n",
      "Hello from func! My name is Thread-9\n",
      "\n",
      "This is the Main thread. My name is MainThread\n"
     ]
    }
   ],
   "source": [
    "def func():\n",
    "    time.sleep(2)\n",
    "    print('\\nHello from func! My name is', threading.current_thread().getName())\n",
    "    \n",
    "x = threading.Thread(target = func)\n",
    "\n",
    "x.start()\n",
    "x.join()\n",
    "\n",
    "print('\\nThis is the Main thread. My name is', threading.current_thread().getName())"
   ]
  },
  {
   "cell_type": "code",
   "execution_count": 14,
   "metadata": {},
   "outputs": [
    {
     "name": "stdout",
     "output_type": "stream",
     "text": [
      "MainThread\n",
      "\n",
      "Hello from func! My name is Thread-10\n",
      "\n",
      "This is the Main thread. My name is MainThread\n"
     ]
    }
   ],
   "source": [
    "x = threading.Thread(target = func)\n",
    "\n",
    "print(threading.current_thread().getName())\n",
    "\n",
    "x.start()\n",
    "x.join()\n",
    "\n",
    "print('\\nThis is the Main thread. My name is', threading.current_thread().getName())"
   ]
  },
  {
   "cell_type": "code",
   "execution_count": 15,
   "metadata": {},
   "outputs": [],
   "source": [
    "def calc_square(n):\n",
    "    result = n * n\n",
    "    \n",
    "    print(f\"The number {n} squares to {result}.\")"
   ]
  },
  {
   "cell_type": "code",
   "execution_count": 16,
   "metadata": {},
   "outputs": [
    {
     "name": "stdout",
     "output_type": "stream",
     "text": [
      "The number 1 squares to 1.\n",
      "The number 2 squares to 4.\n",
      "The number 3 squares to 9.\n",
      "The number 4 squares to 16.\n"
     ]
    }
   ],
   "source": [
    "square_list = []\n",
    "num_list = [1, 2, 3, 4]\n",
    "\n",
    "for n in num_list:\n",
    "    \n",
    "    thread = threading.Thread(target = calc_square, args = (n, ))\n",
    "    square_list.append(thread)\n",
    "    \n",
    "    thread.start()\n",
    "    thread.join()"
   ]
  },
  {
   "cell_type": "code",
   "execution_count": 17,
   "metadata": {},
   "outputs": [
    {
     "name": "stdout",
     "output_type": "stream",
     "text": [
      "\n",
      "Hello from func! My name is Thread-15\n",
      "Control returned to MainThread\n"
     ]
    }
   ],
   "source": [
    "class DerivedThread(threading.Thread):\n",
    "    \n",
    "    def run(self):\n",
    "        time.sleep(2)\n",
    "        print('\\nHello from func! My name is', threading.current_thread().getName())\n",
    "        \n",
    "obj = DerivedThread()\n",
    "\n",
    "obj.start()\n",
    "obj.join()\n",
    "\n",
    "print(\"Control returned to\", threading.current_thread().getName())"
   ]
  },
  {
   "cell_type": "code",
   "execution_count": 18,
   "metadata": {},
   "outputs": [
    {
     "name": "stdout",
     "output_type": "stream",
     "text": [
      "Printing from child thread: 4\n",
      "Printing from child thread: 6\n",
      "Printing from child thread: 1.6\n",
      "Printing from child thread: Hello\n",
      "Printing from child thread: Rose\n",
      "Control returned to MainThread\n"
     ]
    }
   ],
   "source": [
    "class RegularClass():\n",
    "    \n",
    "    def print_list(self):\n",
    "        mixed_list = [4, 6, 1.6, 'Hello', 'Rose']\n",
    "        \n",
    "        for x in mixed_list:\n",
    "            print('Printing from child thread:', x)\n",
    "            time.sleep(1)\n",
    "    \n",
    "obj = RegularClass()\n",
    "\n",
    "x = threading.Thread(target = obj.print_list)\n",
    "\n",
    "x.start()\n",
    "x.join()\n",
    "\n",
    "print(\"Control returned to\", threading.current_thread().getName())"
   ]
  },
  {
   "cell_type": "code",
   "execution_count": 19,
   "metadata": {},
   "outputs": [
    {
     "name": "stdout",
     "output_type": "stream",
     "text": [
      "Hello\n",
      "Hello\n",
      "Hello\n",
      "Hello\n",
      "Hello\n",
      "Hello\n",
      "World\n",
      "World\n",
      "World\n",
      "World\n",
      "World\n",
      "World\n",
      "Total time: 12.020788192749023\n"
     ]
    }
   ],
   "source": [
    "def greetings_1():\n",
    "    for i in range(6):\n",
    "        print('Hello')\n",
    "        time.sleep(1)\n",
    "\n",
    "def greetings_2():\n",
    "    for i in range(6):\n",
    "        print('World')\n",
    "        time.sleep(1)\n",
    "\n",
    "start_time = time.time()\n",
    "\n",
    "greetings_1()\n",
    "greetings_2()\n",
    "\n",
    "end_time = time.time()\n",
    "\n",
    "print('Total time:', end_time-start_time)"
   ]
  },
  {
   "cell_type": "code",
   "execution_count": 20,
   "metadata": {},
   "outputs": [
    {
     "name": "stdout",
     "output_type": "stream",
     "text": [
      "Hello\n",
      "World\n",
      "Hello\n",
      "World\n",
      "Hello\n",
      "World\n",
      "Hello\n",
      "World\n",
      "Hello\n",
      "World\n",
      "Hello\n",
      "World\n",
      "Total time: 6.011723518371582\n"
     ]
    }
   ],
   "source": [
    "def greetings_1():\n",
    "    for i in range(6):\n",
    "        print('Hello')\n",
    "        time.sleep(1)\n",
    "\n",
    "def greetings_2():\n",
    "    for i in range(6):\n",
    "        print('World')\n",
    "        time.sleep(1)\n",
    "\n",
    "start_time = time.time()\n",
    "\n",
    "t1 = threading.Thread(target = greetings_1)\n",
    "t2 = threading.Thread(target = greetings_2)\n",
    "\n",
    "t1.start()\n",
    "t2.start()\n",
    "\n",
    "t1.join()\n",
    "t2.join()\n",
    "\n",
    "end_time = time.time()\n",
    "\n",
    "print('Total time:', end_time-start_time)"
   ]
  },
  {
   "cell_type": "code",
   "execution_count": null,
   "metadata": {},
   "outputs": [],
   "source": []
  },
  {
   "cell_type": "code",
   "execution_count": 3,
   "metadata": {},
   "outputs": [],
   "source": [
    "import threading"
   ]
  },
  {
   "cell_type": "code",
   "execution_count": 43,
   "metadata": {},
   "outputs": [],
   "source": [
    "perfect_nums = []\n",
    "\n",
    "def is_perfect(number):\n",
    "    print(number)\n",
    "    global perfect_nums\n",
    "#     lock.acquire()\n",
    "    for num in range(number-10000+1, number+1):\n",
    "#         print(num)\n",
    "        res = 0\n",
    "        for i in range(1, num//2+1):\n",
    "            if num % i == 0:\n",
    "                res += i\n",
    "        if res == num:\n",
    "            perfect_nums.append(num)\n",
    "#     lock.release()"
   ]
  },
  {
   "cell_type": "code",
   "execution_count": 44,
   "metadata": {},
   "outputs": [
    {
     "name": "stdout",
     "output_type": "stream",
     "text": [
      "10000\n",
      "0:00:04.016194\n",
      "20000\n",
      "0:00:10.859690\n",
      "30000\n",
      "0:00:21.148686\n",
      "10000\n",
      "20000\n",
      "30000\n",
      "40000\n",
      "[6, 28, 496, 8128, 6, 28, 496, 8128]\n",
      "0:01:48.939279\n"
     ]
    }
   ],
   "source": [
    "from datetime import datetime\n",
    "\n",
    "start = datetime.now()\n",
    "threads = []\n",
    "start = datetime.now()\n",
    "for i in range(10000, 40001, 10000):\n",
    "#     start = datetime.now()\n",
    "    is_perfect(i)\n",
    "end = datetime.now()\n",
    "print(end-start)\n",
    "    \n",
    "\n",
    "for i in range(10000, 40001, 10000):\n",
    "#     lock = threading.Lock()\n",
    "    t = threading.Thread(target=is_perfect, args=((i,)))\n",
    "    threads.append(t)\n",
    "for thread in threads:\n",
    "    thread.start()\n",
    "for thread in threads:\n",
    "    thread.join()\n",
    "end = datetime.now()\n",
    "\n",
    "print(perfect_nums)\n",
    "print(end-start)"
   ]
  },
  {
   "cell_type": "code",
   "execution_count": null,
   "metadata": {},
   "outputs": [],
   "source": []
  },
  {
   "cell_type": "code",
   "execution_count": null,
   "metadata": {},
   "outputs": [],
   "source": []
  },
  {
   "cell_type": "code",
   "execution_count": null,
   "metadata": {},
   "outputs": [],
   "source": []
  }
 ],
 "metadata": {
  "kernelspec": {
   "display_name": "Python 3",
   "language": "python",
   "name": "python3"
  },
  "language_info": {
   "codemirror_mode": {
    "name": "ipython",
    "version": 3
   },
   "file_extension": ".py",
   "mimetype": "text/x-python",
   "name": "python",
   "nbconvert_exporter": "python",
   "pygments_lexer": "ipython3",
   "version": "3.6.9"
  }
 },
 "nbformat": 4,
 "nbformat_minor": 5
}
