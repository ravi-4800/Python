{
 "cells": [
  {
   "cell_type": "code",
   "execution_count": 10,
   "metadata": {},
   "outputs": [],
   "source": [
    "import time"
   ]
  },
  {
   "cell_type": "code",
   "execution_count": 11,
   "metadata": {},
   "outputs": [],
   "source": [
    "def square(num):\n",
    "    \n",
    "    time.sleep(1)\n",
    "    res = num * num\n",
    "    print(f\"The number {num} squares to {res}\")"
   ]
  },
  {
   "cell_type": "markdown",
   "metadata": {},
   "source": []
  },
  {
   "cell_type": "code",
   "execution_count": 12,
   "metadata": {},
   "outputs": [
    {
     "name": "stdout",
     "output_type": "stream",
     "text": [
      "The number 1 squares to 1\n",
      "The number 2 squares to 4\n",
      "The number 3 squares to 9\n",
      "The number 4 squares to 16\n"
     ]
    }
   ],
   "source": [
    "nums = [1, 2, 3, 4]\n",
    "\n",
    "start_time = time.time()\n",
    "\n",
    "for num in nums:\n",
    "    square(num)\n",
    "\n",
    "end_time = time.time()"
   ]
  },
  {
   "cell_type": "code",
   "execution_count": 13,
   "metadata": {},
   "outputs": [
    {
     "data": {
      "text/plain": [
       "4.0059123039245605"
      ]
     },
     "execution_count": 13,
     "metadata": {},
     "output_type": "execute_result"
    }
   ],
   "source": [
    "end_time - start_time"
   ]
  },
  {
   "cell_type": "code",
   "execution_count": 14,
   "metadata": {},
   "outputs": [],
   "source": [
    "import os\n",
    "\n",
    "from multiprocessing import Process, current_process"
   ]
  },
  {
   "cell_type": "code",
   "execution_count": 16,
   "metadata": {},
   "outputs": [
    {
     "ename": "SyntaxError",
     "evalue": "invalid syntax (<ipython-input-16-53f9732e71df>, line 9)",
     "output_type": "error",
     "traceback": [
      "\u001b[0;36m  File \u001b[0;32m\"<ipython-input-16-53f9732e71df>\"\u001b[0;36m, line \u001b[0;32m9\u001b[0m\n\u001b[0;31m    print(f\"The number {num} squares to {res}\")\u001b[0m\n\u001b[0m        ^\u001b[0m\n\u001b[0;31mSyntaxError\u001b[0m\u001b[0;31m:\u001b[0m invalid syntax\n"
     ]
    }
   ],
   "source": [
    "def square(num):\n",
    "    \n",
    "    time.sleep(1)\n",
    "    res = num * num\n",
    "    \n",
    "    process_id = os.getpid()(\n",
    "    print(\"Process ID:\", process_id)\n",
    "    \n",
    "    print(f\"The number {num} squares to {res}\")"
   ]
  },
  {
   "cell_type": "code",
   "execution_count": 17,
   "metadata": {},
   "outputs": [
    {
     "name": "stdout",
     "output_type": "stream",
     "text": [
      "The number 1 squares to 1The number 3 squares to 9The number 2 squares to 4\n",
      "\n",
      "\n",
      "The number 4 squares to 16\n"
     ]
    }
   ],
   "source": [
    "start_time = time.time()\n",
    "\n",
    "for num in nums:\n",
    "    \n",
    "    process = Process(target=square, args=(num,))\n",
    "    process.start()\n",
    "\n",
    "process.join()\n",
    "\n",
    "end_time = time.time()"
   ]
  },
  {
   "cell_type": "code",
   "execution_count": 18,
   "metadata": {},
   "outputs": [
    {
     "data": {
      "text/plain": [
       "1.3736891746520996"
      ]
     },
     "execution_count": 18,
     "metadata": {},
     "output_type": "execute_result"
    }
   ],
   "source": [
    "end_time - start_time"
   ]
  },
  {
   "cell_type": "code",
   "execution_count": 19,
   "metadata": {},
   "outputs": [],
   "source": [
    "def square(num):\n",
    "    \n",
    "    time.sleep(1)\n",
    "    res = num * num\n",
    "    \n",
    "    process_id = current_process().pid\n",
    "    process_name = current_process().name\n",
    "    \n",
    "    print(f'Process ID is {process_id} and name is {process_name}')\n",
    "    \n",
    "    print(f'The number {num} squares to {res}')"
   ]
  },
  {
   "cell_type": "code",
   "execution_count": 20,
   "metadata": {},
   "outputs": [
    {
     "name": "stdout",
     "output_type": "stream",
     "text": [
      "Process ID is 1823 and name is Process-5\n",
      "Process ID is 1825 and name is Process-7Process ID is 1824 and name is Process-6Process ID is 1826 and name is Process-8\n",
      "The number 1 squares to 1The number 3 squares to 9\n",
      "\n",
      "\n",
      "\n",
      "The number 4 squares to 16The number 2 squares to 4\n",
      "\n"
     ]
    }
   ],
   "source": [
    "start_time = time.time()\n",
    "\n",
    "for num in nums:\n",
    "    \n",
    "    process = Process(target=square, args=(num,))\n",
    "    process.start()\n",
    "    \n",
    "process.join()\n",
    "\n",
    "end_time = time.time()"
   ]
  },
  {
   "cell_type": "code",
   "execution_count": 21,
   "metadata": {},
   "outputs": [
    {
     "data": {
      "text/plain": [
       "1.0845258235931396"
      ]
     },
     "execution_count": 21,
     "metadata": {},
     "output_type": "execute_result"
    }
   ],
   "source": [
    "end_time - start_time"
   ]
  },
  {
   "cell_type": "code",
   "execution_count": null,
   "metadata": {},
   "outputs": [],
   "source": []
  }
 ],
 "metadata": {
  "kernelspec": {
   "display_name": "Python 3",
   "language": "python",
   "name": "python3"
  },
  "language_info": {
   "codemirror_mode": {
    "name": "ipython",
    "version": 3
   },
   "file_extension": ".py",
   "mimetype": "text/x-python",
   "name": "python",
   "nbconvert_exporter": "python",
   "pygments_lexer": "ipython3",
   "version": "3.6.9"
  }
 },
 "nbformat": 4,
 "nbformat_minor": 5
}
