{
 "cells": [
  {
   "cell_type": "code",
   "execution_count": 1,
   "metadata": {},
   "outputs": [],
   "source": [
    "import time\n",
    "import multiprocessing"
   ]
  },
  {
   "cell_type": "code",
   "execution_count": 2,
   "metadata": {},
   "outputs": [],
   "source": [
    "def deposit_without_mp(balance, amount):\n",
    "    for i in range(100):\n",
    "        time.sleep(0.01)\n",
    "        balance += amount\n",
    "    return balance"
   ]
  },
  {
   "cell_type": "code",
   "execution_count": 3,
   "metadata": {},
   "outputs": [],
   "source": [
    "def withdraw_without_mp(balance, amount):\n",
    "    for i in range(100):\n",
    "        time.sleep(0.01)\n",
    "        balance -= amount\n",
    "    return balance"
   ]
  },
  {
   "cell_type": "code",
   "execution_count": 4,
   "metadata": {},
   "outputs": [
    {
     "data": {
      "text/plain": [
       "600"
      ]
     },
     "execution_count": 4,
     "metadata": {},
     "output_type": "execute_result"
    }
   ],
   "source": [
    "balance = 600\n",
    "balance"
   ]
  },
  {
   "cell_type": "code",
   "execution_count": 5,
   "metadata": {},
   "outputs": [
    {
     "data": {
      "text/plain": [
       "1100"
      ]
     },
     "execution_count": 5,
     "metadata": {},
     "output_type": "execute_result"
    }
   ],
   "source": [
    "balance = deposit_without_mp(balance, 5)\n",
    "balance"
   ]
  },
  {
   "cell_type": "code",
   "execution_count": 6,
   "metadata": {},
   "outputs": [
    {
     "data": {
      "text/plain": [
       "600"
      ]
     },
     "execution_count": 6,
     "metadata": {},
     "output_type": "execute_result"
    }
   ],
   "source": [
    "balance = withdraw_without_mp(balance, 5)\n",
    "balance"
   ]
  },
  {
   "cell_type": "code",
   "execution_count": 14,
   "metadata": {},
   "outputs": [],
   "source": [
    "def deposit_without_lock(balance, amount):\n",
    "    for i in range(100):\n",
    "        time.sleep(0.01)\n",
    "        balance.value += amount\n",
    "        \n",
    "def withdraw_without_lock(balance, amount):\n",
    "    for i in range(100):\n",
    "        time.sleep(0.01)\n",
    "        balance.value -= amount"
   ]
  },
  {
   "cell_type": "code",
   "execution_count": 15,
   "metadata": {},
   "outputs": [
    {
     "data": {
      "text/plain": [
       "600"
      ]
     },
     "execution_count": 15,
     "metadata": {},
     "output_type": "execute_result"
    }
   ],
   "source": [
    "balance = multiprocessing.Value('i', 600)\n",
    "balance.value"
   ]
  },
  {
   "cell_type": "code",
   "execution_count": 20,
   "metadata": {},
   "outputs": [
    {
     "name": "stdout",
     "output_type": "stream",
     "text": [
      "Final balance: 740\n"
     ]
    }
   ],
   "source": [
    "d = multiprocessing.Process(target=deposit_without_lock, args=(balance, 5))\n",
    "w = multiprocessing.Process(target=withdraw_without_lock, args=(balance, 5))\n",
    "\n",
    "d.start()\n",
    "w.start()\n",
    "\n",
    "d.join()\n",
    "w.join()\n",
    "\n",
    "print(f'Final balance: {balance.value}')"
   ]
  },
  {
   "cell_type": "code",
   "execution_count": 25,
   "metadata": {},
   "outputs": [],
   "source": [
    "def deposit_with_lock(balance, amount, lock):\n",
    "    \n",
    "    for i in range(100):\n",
    "        time.sleep(0.01)\n",
    "        \n",
    "        lock.acquire()\n",
    "        \n",
    "        balance.value += amount\n",
    "        \n",
    "        lock.release()"
   ]
  },
  {
   "cell_type": "code",
   "execution_count": 26,
   "metadata": {},
   "outputs": [],
   "source": [
    "def withdraw_with_lock(balance, amount, lock):\n",
    "    \n",
    "    for i in range(100):\n",
    "        time.sleep(0.01)\n",
    "        \n",
    "        lock.acquire()\n",
    "        \n",
    "        balance.value -= amount\n",
    "        \n",
    "        lock.release()"
   ]
  },
  {
   "cell_type": "code",
   "execution_count": 27,
   "metadata": {},
   "outputs": [],
   "source": [
    "balance = multiprocessing.Value('i', 600)\n",
    "lock = multiprocessing.Lock()"
   ]
  },
  {
   "cell_type": "code",
   "execution_count": 30,
   "metadata": {},
   "outputs": [
    {
     "name": "stdout",
     "output_type": "stream",
     "text": [
      "Final balance: 600\n"
     ]
    }
   ],
   "source": [
    "d = multiprocessing.Process(target=deposit_with_lock, args=(balance, 5, lock))\n",
    "w = multiprocessing.Process(target=withdraw_with_lock, args=(balance, 5, lock))\n",
    "\n",
    "d.start()\n",
    "w.start()\n",
    "\n",
    "d.join()\n",
    "w.join()\n",
    "\n",
    "print(f'Final balance: {balance.value}')"
   ]
  },
  {
   "cell_type": "code",
   "execution_count": null,
   "metadata": {},
   "outputs": [],
   "source": []
  }
 ],
 "metadata": {
  "kernelspec": {
   "display_name": "Python 3",
   "language": "python",
   "name": "python3"
  },
  "language_info": {
   "codemirror_mode": {
    "name": "ipython",
    "version": 3
   },
   "file_extension": ".py",
   "mimetype": "text/x-python",
   "name": "python",
   "nbconvert_exporter": "python",
   "pygments_lexer": "ipython3",
   "version": "3.6.9"
  }
 },
 "nbformat": 4,
 "nbformat_minor": 5
}
