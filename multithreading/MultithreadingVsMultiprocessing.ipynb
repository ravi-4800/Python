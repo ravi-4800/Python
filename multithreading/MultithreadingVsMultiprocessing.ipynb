{
 "cells": [
  {
   "cell_type": "code",
   "execution_count": 5,
   "metadata": {},
   "outputs": [],
   "source": [
    "import time\n",
    "import multiprocessing"
   ]
  },
  {
   "cell_type": "code",
   "execution_count": 6,
   "metadata": {},
   "outputs": [],
   "source": [
    "def square(nums):\n",
    "    \n",
    "    for n in nums:\n",
    "        print(f\"\\nsquare of {n} is {n*n}\")\n",
    "        "
   ]
  },
  {
   "cell_type": "code",
   "execution_count": 7,
   "metadata": {},
   "outputs": [],
   "source": [
    "def cube(nums):\n",
    "    \n",
    "    for n in nums:\n",
    "        print(f\"\\ncube of {n} is {n*n*n}\")"
   ]
  },
  {
   "cell_type": "code",
   "execution_count": 8,
   "metadata": {},
   "outputs": [
    {
     "name": "stdout",
     "output_type": "stream",
     "text": [
      "\n",
      "square of 2 is 4\n",
      "cube of 2 is 8\n",
      "\n",
      "\n",
      "cube of 3 is 27\n",
      "\n",
      "square of 3 is 9\n",
      "cube of 6 is 216\n",
      "\n",
      "\n",
      "square of 6 is 36\n",
      "\n",
      "Completed\n"
     ]
    }
   ],
   "source": [
    "num_list = [2, 3, 6]\n",
    "\n",
    "p1 = multiprocessing.Process(target=square, args=(num_list,))\n",
    "p2 = multiprocessing.Process(target=cube, args=(num_list,))\n",
    "\n",
    "p1.start()\n",
    "p2.start()\n",
    "\n",
    "p1.join()\n",
    "p2.join()\n",
    "\n",
    "print('\\nCompleted')"
   ]
  },
  {
   "cell_type": "code",
   "execution_count": 9,
   "metadata": {},
   "outputs": [],
   "source": [
    "square_list = []\n",
    "\n",
    "def square(nums):\n",
    "    \n",
    "    global square_list\n",
    "    \n",
    "    for n in nums:\n",
    "        \n",
    "        res = n * n\n",
    "        print(f\"square of {n} is {res}\")\n",
    "        square_list.append(res)"
   ]
  },
  {
   "cell_type": "code",
   "execution_count": 10,
   "metadata": {},
   "outputs": [
    {
     "name": "stdout",
     "output_type": "stream",
     "text": [
      "square of 2 is 4\n",
      "square of 5 is 25\n",
      "square of 7 is 49\n",
      "[]\n"
     ]
    }
   ],
   "source": [
    "nums = [2, 5, 7]\n",
    "\n",
    "p = multiprocessing.Process(target=square, args=(nums,))\n",
    "\n",
    "p.start()\n",
    "p.join()\n",
    "\n",
    "print(square_list)"
   ]
  },
  {
   "cell_type": "code",
   "execution_count": 13,
   "metadata": {},
   "outputs": [],
   "source": [
    "square_list = []\n",
    "\n",
    "def square(nums):\n",
    "    \n",
    "    global square_list\n",
    "    \n",
    "    for n in nums:\n",
    "        \n",
    "        res = n * n\n",
    "        print(f\"square of {n} is {res}\")\n",
    "        square_list.append(res)\n",
    "    print(f\"Inside the process: {square_list}\")"
   ]
  },
  {
   "cell_type": "code",
   "execution_count": 14,
   "metadata": {},
   "outputs": [
    {
     "name": "stdout",
     "output_type": "stream",
     "text": [
      "square of 2 is 4\n",
      "square of 5 is 25\n",
      "square of 7 is 49\n",
      "Inside the process: [4, 25, 49]\n",
      "[]\n"
     ]
    }
   ],
   "source": [
    "nums = [2, 5, 7]\n",
    "\n",
    "p = multiprocessing.Process(target=square, args=(nums,))\n",
    "\n",
    "p.start()\n",
    "p.join()\n",
    "\n",
    "print(square_list)"
   ]
  },
  {
   "cell_type": "code",
   "execution_count": 15,
   "metadata": {},
   "outputs": [],
   "source": [
    "import threading"
   ]
  },
  {
   "cell_type": "code",
   "execution_count": 16,
   "metadata": {},
   "outputs": [],
   "source": [
    "def square(nums):\n",
    "    \n",
    "    global square_list\n",
    "    \n",
    "    for n in nums:\n",
    "        \n",
    "        res = n * n\n",
    "        print(f\"square of {n} is {res}\")\n",
    "        square_list.append(res)"
   ]
  },
  {
   "cell_type": "code",
   "execution_count": 17,
   "metadata": {},
   "outputs": [
    {
     "name": "stdout",
     "output_type": "stream",
     "text": [
      "square of 4 is 16\n",
      "square of 6 is 36\n",
      "square of 9 is 81\n",
      "Main thread: [16, 36, 81]\n"
     ]
    }
   ],
   "source": [
    "nums = [4, 6, 9]\n",
    "\n",
    "t = threading.Thread(target=square, args=(nums,))\n",
    "\n",
    "t.start()\n",
    "t.join()\n",
    "\n",
    "print(f\"Main thread: {square_list}\")\n"
   ]
  },
  {
   "cell_type": "code",
   "execution_count": null,
   "metadata": {},
   "outputs": [],
   "source": []
  }
 ],
 "metadata": {
  "kernelspec": {
   "display_name": "Python 3",
   "language": "python",
   "name": "python3"
  },
  "language_info": {
   "codemirror_mode": {
    "name": "ipython",
    "version": 3
   },
   "file_extension": ".py",
   "mimetype": "text/x-python",
   "name": "python",
   "nbconvert_exporter": "python",
   "pygments_lexer": "ipython3",
   "version": "3.6.9"
  }
 },
 "nbformat": 4,
 "nbformat_minor": 5
}
